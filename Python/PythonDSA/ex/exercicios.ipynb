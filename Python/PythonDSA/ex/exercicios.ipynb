{
 "cells": [
  {
   "cell_type": "code",
   "execution_count": null,
   "id": "d93bd986",
   "metadata": {},
   "outputs": [],
   "source": [
    "#ex0001\n",
    "Rhora = float(input('Valor ganho por hora:'))\n",
    "horas_mes = float(input('Horas trabalhadas: '))\n",
    "print(f'Trabalhando {horas_mes} horas, ganhando {Rhora} por hora você ira receber R${Rhora*horas_mes:.2f}')"
   ]
  },
  {
   "cell_type": "code",
   "execution_count": 5,
   "id": "c79e0c3d",
   "metadata": {},
   "outputs": [
    {
     "name": "stdout",
     "output_type": "stream",
     "text": [
      "Insira o peso do peixe: 300\n",
      "O peso do peixe é 300.0, que excedeu 250.0kg, e cada kg em excesso custa R$4,0, totalizando 1000.0 de multa\n"
     ]
    }
   ],
   "source": [
    "#ex0002\n",
    "kg = float(input('Insira o peso do peixe: '))\n",
    "if kg > 50:\n",
    "    n_kg = kg - 50\n",
    "    n_kg = n_kg * 4\n",
    "print(f'O peso do peixe é {kg}, que excedeu {kg-50}kg, e cada kg em excesso custa R$4,0, totalizando {n_kg} de multa')"
   ]
  },
  {
   "cell_type": "code",
   "execution_count": 9,
   "id": "85febce3",
   "metadata": {},
   "outputs": [
    {
     "name": "stdout",
     "output_type": "stream",
     "text": [
      "Insira seu ganho hora: 10\n",
      "Horas trabalhadas: 160\n",
      "Seu sálario bruto: R$ 1600.00\n",
      "- IR(11%): R$176.0\n",
      "- INSS(8%): R$128.0\n",
      "- Sindicato(5%): R$80.0\n",
      "Sálario liquido: R$1216.0\n"
     ]
    }
   ],
   "source": [
    "#ex0003\n",
    "R_hora = float(input('Insira seu ganho hora: '))\n",
    "horas = float(input('Horas trabalhadas: '))\n",
    "salario = R_hora * horas\n",
    "IR = salario * 0.11\n",
    "INSS = salario * 0.08\n",
    "sindicato = salario * 0.05\n",
    "salario_liquido = salario-(INSS+IR+sindicato)\n",
    "print(f'Seu sálario bruto: R$ {salario:.2f}')\n",
    "print(f'- IR(11%): R${IR}')\n",
    "print(f'- INSS(8%): R${INSS}')\n",
    "print(f'- Sindicato(5%): R${sindicato}')\n",
    "print(f'Sálario liquido: R${salario_liquido}')\n",
    "\n",
    "\n"
   ]
  },
  {
   "cell_type": "code",
   "execution_count": 3,
   "id": "150bc82a",
   "metadata": {},
   "outputs": [
    {
     "name": "stdout",
     "output_type": "stream",
     "text": [
      "Insira os metros quadrados as serem pintados: 200\n",
      "296.2962962962963\n"
     ]
    }
   ],
   "source": [
    "#ex0004\n",
    "m = float(input('Insira os metros quadrados as serem pintados: '))\n",
    "t_tinta = m/3\n",
    "p_lata = 80\n",
    "c_lata = 18\n",
    "\n",
    "latas = t_tinta / c_lata\n",
    "total = latas * p_lata\n",
    "print(total)\n"
   ]
  },
  {
   "cell_type": "code",
   "execution_count": 6,
   "id": "f8552b5a",
   "metadata": {},
   "outputs": [
    {
     "name": "stdout",
     "output_type": "stream",
     "text": [
      "Insira um número: 100\n",
      "Insira um número: 1000\n",
      "Insira um número: 0\n",
      "1000\n"
     ]
    }
   ],
   "source": [
    "#ex0005\n",
    "n1 = int(input('Insira um número: '))\n",
    "n2 = int(input('Insira um número: '))\n",
    "n3 = int(input('Insira um número: '))\n",
    "maior = 0\n",
    "\n",
    "if n1 > n2:\n",
    "    maior = n1\n",
    "elif n2 > n1:\n",
    "    maior = n2\n",
    "elif n3 > maior:\n",
    "    maior = n3\n",
    "print(maior)"
   ]
  },
  {
   "cell_type": "code",
   "execution_count": 10,
   "id": "283b1eef",
   "metadata": {},
   "outputs": [
    {
     "name": "stdout",
     "output_type": "stream",
     "text": [
      "Insira um número: 1000\n",
      "Insira um número: 1\n",
      "Insira um número: 0\n",
      "1000\n"
     ]
    }
   ],
   "source": [
    "n1 = int(input('Insira um número: '))\n",
    "n2 = int(input('Insira um número: '))\n",
    "n3 = int(input('Insira um número: '))\n",
    "lista = [n1, n2, n3]\n",
    "print(max(lista))"
   ]
  },
  {
   "cell_type": "code",
   "execution_count": null,
   "id": "6a96ea1d",
   "metadata": {},
   "outputs": [],
   "source": []
  }
 ],
 "metadata": {
  "kernelspec": {
   "display_name": "Python 3 (ipykernel)",
   "language": "python",
   "name": "python3"
  },
  "language_info": {
   "codemirror_mode": {
    "name": "ipython",
    "version": 3
   },
   "file_extension": ".py",
   "mimetype": "text/x-python",
   "name": "python",
   "nbconvert_exporter": "python",
   "pygments_lexer": "ipython3",
   "version": "3.9.12"
  }
 },
 "nbformat": 4,
 "nbformat_minor": 5
}
